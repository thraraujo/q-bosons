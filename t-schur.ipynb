{
 "cells": [
  {
   "cell_type": "code",
   "execution_count": 5,
   "id": "29e2f744-ab22-4e85-a9ff-fb25f9132359",
   "metadata": {},
   "outputs": [],
   "source": [
    "from pysymmpol import *\n",
    "import sympy as sp"
   ]
  },
  {
   "cell_type": "code",
   "execution_count": 13,
   "id": "e449a8d7-6313-42f7-b2f1-7765c4774317",
   "metadata": {},
   "outputs": [],
   "source": [
    "n = 6\n",
    "hom = [HomogeneousPolynomial(i) for i in range(n+1)]\n",
    "ele = [ElementaryPolynomial(i) for i in range(n+1)]"
   ]
  },
  {
   "cell_type": "code",
   "execution_count": 6,
   "id": "f0747480-08ca-4cfe-be8d-fad04122ff22",
   "metadata": {},
   "outputs": [],
   "source": [
    "t = sp.symbols(f't1:{n+1}')"
   ]
  },
  {
   "cell_type": "code",
   "execution_count": 12,
   "id": "81a98779-febc-4fc3-9f68-4c8474a424dd",
   "metadata": {},
   "outputs": [],
   "source": [
    "Q = sp.Symbol('Q')"
   ]
  },
  {
   "cell_type": "code",
   "execution_count": 159,
   "id": "346005a8-3311-4e1d-8b7f-4cff41164103",
   "metadata": {},
   "outputs": [],
   "source": [
    "# Define the q-function \n",
    "def q(m: int, Q):\n",
    "    s = 0\n",
    "    for j in range(m+1):  \n",
    "        #print(j, m-j)\n",
    "        s += hom[m - j].explicit(t) * ele[j].explicit(t) * ( - Q) ** j\n",
    "    return s"
   ]
  },
  {
   "cell_type": "code",
   "execution_count": 237,
   "id": "20e4c8c3-a344-4c92-a951-fd315007cef0",
   "metadata": {},
   "outputs": [],
   "source": [
    "# Define the Q-Schur\n",
    "def QSchur(young, Q):\n",
    "    N = young.rows\n",
    "    S = sp.zeros(N, N)\n",
    "    for i in range(1, N + 1):\n",
    "        for j in range(1, N + 1):\n",
    "            #print(young._partition[i-1] - i + j)\n",
    "            #print(i,j)\n",
    "            S[i-1,j-1] = q(young._partition[i - 1] - i + j, Q)\n",
    "    return S.det()"
   ]
  },
  {
   "cell_type": "code",
   "execution_count": 238,
   "id": "74a9420b-8ca2-4a7c-ae58-7f200bd1da71",
   "metadata": {},
   "outputs": [
    {
     "data": {
      "text/latex": [
       "$\\displaystyle Q^{2} \\left(\\frac{t_{1}^{2}}{2} - t_{2}\\right) - Q t_{1}^{2} + \\frac{t_{1}^{2}}{2} + t_{2}$"
      ],
      "text/plain": [
       "Q**2*(t1**2/2 - t2) - Q*t1**2 + t1**2/2 + t2"
      ]
     },
     "execution_count": 238,
     "metadata": {},
     "output_type": "execute_result"
    }
   ],
   "source": [
    "q(2,Q)"
   ]
  },
  {
   "cell_type": "code",
   "execution_count": 239,
   "id": "e0d435e5-9d68-466c-9f48-c3968d47cd0a",
   "metadata": {},
   "outputs": [
    {
     "data": {
      "text/latex": [
       "$\\displaystyle \\frac{Q^{2} t_{1}^{2}}{2} + Q^{2} t_{2} - Q t_{1}^{2} + \\frac{t_{1}^{2}}{2} - t_{2}$"
      ],
      "text/plain": [
       "Q**2*t1**2/2 + Q**2*t2 - Q*t1**2 + t1**2/2 - t2"
      ]
     },
     "execution_count": 239,
     "metadata": {},
     "output_type": "execute_result"
    }
   ],
   "source": [
    "QSchur(yg2, Q)"
   ]
  },
  {
   "cell_type": "code",
   "execution_count": 161,
   "id": "7ae6d53e-74c9-49d8-a155-98616ede9b82",
   "metadata": {},
   "outputs": [],
   "source": [
    "# b factor \n",
    "def b(young):\n",
    "    partition = young._partition\n",
    "    n = max(partition)\n",
    "    small = min(partition)\n",
    "    b = 1\n",
    "    while n >= small:\n",
    "        for j in range(1, partition.count(n) + 1):\n",
    "            b *= (1 - Q ** j)\n",
    "        n -= 1\n",
    "    return b"
   ]
  },
  {
   "cell_type": "code",
   "execution_count": null,
   "id": "eaf2a0c7-7ceb-479a-87e1-cea67bdcf51b",
   "metadata": {},
   "outputs": [],
   "source": []
  },
  {
   "cell_type": "code",
   "execution_count": 217,
   "id": "ebd7689d-e610-43ee-b9eb-1d1b9adfb7b3",
   "metadata": {},
   "outputs": [],
   "source": [
    "par = (2,) # define a partition\n",
    "yg = YoungDiagram(par) # Initialize an object, YoungDiagram\n",
    "sch = SchurPolynomial(yg) # Initialize the Schur polynomial"
   ]
  },
  {
   "cell_type": "code",
   "execution_count": 218,
   "id": "524173b9-d34c-46d7-b8e3-5cffdea6f23c",
   "metadata": {},
   "outputs": [
    {
     "data": {
      "text/latex": [
       "$\\displaystyle \\frac{t_{1}^{2}}{2} + t_{2}$"
      ],
      "text/plain": [
       "t1**2/2 + t2"
      ]
     },
     "execution_count": 218,
     "metadata": {},
     "output_type": "execute_result"
    }
   ],
   "source": [
    "sch.explicit(t)"
   ]
  },
  {
   "cell_type": "code",
   "execution_count": 219,
   "id": "c7eefbff-9502-4725-a40f-b2a95a604394",
   "metadata": {},
   "outputs": [],
   "source": [
    "par2 = (1,1) # define a partition\n",
    "yg2 = YoungDiagram(par2)\n",
    "sch2 = SchurPolynomial(yg2)"
   ]
  },
  {
   "cell_type": "code",
   "execution_count": 220,
   "id": "16851ec6-4632-4e93-9177-0b070bae6482",
   "metadata": {},
   "outputs": [
    {
     "data": {
      "text/latex": [
       "$\\displaystyle \\frac{t_{1}^{2}}{2} - t_{2}$"
      ],
      "text/plain": [
       "t1**2/2 - t2"
      ]
     },
     "execution_count": 220,
     "metadata": {},
     "output_type": "execute_result"
    }
   ],
   "source": [
    "sch2.explicit(t)"
   ]
  },
  {
   "cell_type": "code",
   "execution_count": null,
   "id": "5e576302-7e92-4222-a862-f0358e17230c",
   "metadata": {},
   "outputs": [],
   "source": []
  },
  {
   "cell_type": "code",
   "execution_count": 223,
   "id": "63a1f659-6760-4c77-b5f4-3ac8ebe884aa",
   "metadata": {},
   "outputs": [
    {
     "data": {
      "text/latex": [
       "$\\displaystyle Q^{2} \\left(\\frac{t_{1}^{2}}{2} - t_{2}\\right) - Q t_{1}^{2} + \\frac{t_{1}^{2}}{2} + t_{2}$"
      ],
      "text/plain": [
       "Q**2*(t1**2/2 - t2) - Q*t1**2 + t1**2/2 + t2"
      ]
     },
     "execution_count": 223,
     "metadata": {},
     "output_type": "execute_result"
    }
   ],
   "source": [
    "QSchur(yg, Q)"
   ]
  },
  {
   "cell_type": "code",
   "execution_count": null,
   "id": "72ca2176-07de-448b-9a15-27840726bc6e",
   "metadata": {},
   "outputs": [],
   "source": []
  },
  {
   "cell_type": "code",
   "execution_count": 229,
   "id": "9a1a7365-20dd-4216-998a-717902919645",
   "metadata": {},
   "outputs": [
    {
     "data": {
      "text/latex": [
       "$\\displaystyle \\frac{Q^{2} t_{1}^{2}}{2} + Q^{2} t_{2} - Q t_{1}^{2} + \\frac{t_{1}^{2}}{2} - t_{2}$"
      ],
      "text/plain": [
       "Q**2*t1**2/2 + Q**2*t2 - Q*t1**2 + t1**2/2 - t2"
      ]
     },
     "execution_count": 229,
     "metadata": {},
     "output_type": "execute_result"
    }
   ],
   "source": [
    "QSchur(yg2, Q)"
   ]
  },
  {
   "cell_type": "code",
   "execution_count": 230,
   "id": "7f4350e4-11e8-420c-94e7-faf44a2aa3fe",
   "metadata": {},
   "outputs": [
    {
     "data": {
      "text/latex": [
       "$\\displaystyle \\left(1 - Q\\right) \\left(1 - Q^{2}\\right)$"
      ],
      "text/plain": [
       "(1 - Q)*(1 - Q**2)"
      ]
     },
     "execution_count": 230,
     "metadata": {},
     "output_type": "execute_result"
    }
   ],
   "source": [
    "b(yg2)"
   ]
  },
  {
   "cell_type": "code",
   "execution_count": null,
   "id": "22579f72-ba8f-470c-8796-44d4fc239253",
   "metadata": {},
   "outputs": [],
   "source": []
  },
  {
   "cell_type": "code",
   "execution_count": null,
   "id": "54b2638e-7b1b-4e16-8715-dcb72243abe2",
   "metadata": {},
   "outputs": [],
   "source": []
  },
  {
   "cell_type": "code",
   "execution_count": null,
   "id": "adf69d3a-c2eb-4dc7-9b66-c1200e879873",
   "metadata": {},
   "outputs": [],
   "source": []
  }
 ],
 "metadata": {
  "kernelspec": {
   "display_name": "Python 3 (ipykernel)",
   "language": "python",
   "name": "python3"
  },
  "language_info": {
   "codemirror_mode": {
    "name": "ipython",
    "version": 3
   },
   "file_extension": ".py",
   "mimetype": "text/x-python",
   "name": "python",
   "nbconvert_exporter": "python",
   "pygments_lexer": "ipython3",
   "version": "3.12.2"
  }
 },
 "nbformat": 4,
 "nbformat_minor": 5
}
