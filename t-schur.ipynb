{
 "cells": [
  {
   "cell_type": "code",
   "execution_count": 1,
   "id": "29e2f744-ab22-4e85-a9ff-fb25f9132359",
   "metadata": {},
   "outputs": [],
   "source": [
    "# from pysymmpol import *\n",
    "import sympy as sp"
   ]
  },
  {
   "cell_type": "markdown",
   "id": "d738eb8c-d401-47cc-ad15-ded277b24882",
   "metadata": {},
   "source": [
    "# Phase Model"
   ]
  },
  {
   "cell_type": "markdown",
   "id": "950a1738-63a6-42be-946c-e2a67410defa",
   "metadata": {},
   "source": [
    "Here we consider the monodromy matrix for the phase model. "
   ]
  },
  {
   "cell_type": "code",
   "execution_count": 81,
   "id": "cd157b4b-a48d-4a6b-88c3-66f3a3631b89",
   "metadata": {},
   "outputs": [],
   "source": [
    "M = 3 # length of the spin chain is M + 1"
   ]
  },
  {
   "cell_type": "code",
   "execution_count": 82,
   "id": "54b2638e-7b1b-4e16-8715-dcb72243abe2",
   "metadata": {},
   "outputs": [],
   "source": [
    "x = sp.Symbol('x', domain='RR')"
   ]
  },
  {
   "cell_type": "code",
   "execution_count": 83,
   "id": "9a93c80a-8030-46ca-a6bd-4e1c39a1c499",
   "metadata": {},
   "outputs": [],
   "source": [
    "Phi = sp.symbols(f'phi0:{M + 1}', commutative=False)"
   ]
  },
  {
   "cell_type": "code",
   "execution_count": 84,
   "id": "ef12a2b9-4933-42e0-8223-509636de2e50",
   "metadata": {},
   "outputs": [],
   "source": [
    "PhiD = sp.symbols(f'phi0:{M + 1}^t', commutative=False)"
   ]
  },
  {
   "cell_type": "code",
   "execution_count": 85,
   "id": "adf69d3a-c2eb-4dc7-9b66-c1200e879873",
   "metadata": {},
   "outputs": [],
   "source": [
    "def L(i):\n",
    "    return sp.Matrix([[1/sp.sqrt(x), PhiD[i]],[Phi[i], sp.sqrt(x)]])"
   ]
  },
  {
   "cell_type": "code",
   "execution_count": 86,
   "id": "f4ab5303-c8b6-4514-9b1e-4f7db20a85a6",
   "metadata": {},
   "outputs": [
    {
     "data": {
      "text/latex": [
       "$\\displaystyle \\left[\\begin{matrix}\\frac{1}{\\sqrt{x}} & \\phi^{t}_{1}\\\\\\phi_{1} & \\sqrt{x}\\end{matrix}\\right]$"
      ],
      "text/plain": [
       "Matrix([\n",
       "[1/sqrt(x),  phi1^t],\n",
       "[     phi1, sqrt(x)]])"
      ]
     },
     "execution_count": 86,
     "metadata": {},
     "output_type": "execute_result"
    }
   ],
   "source": [
    "L(1)"
   ]
  },
  {
   "cell_type": "code",
   "execution_count": 87,
   "id": "caba9099-44c3-4925-875a-4d3ab8ce005c",
   "metadata": {},
   "outputs": [],
   "source": [
    "def monodromy():\n",
    "    T = 1\n",
    "    for i in range(M+1):\n",
    "        T *= L(M - i)\n",
    "    return T"
   ]
  },
  {
   "cell_type": "code",
   "execution_count": 88,
   "id": "b1cdced6-74c6-4a35-af74-7ee6f5a38b2d",
   "metadata": {},
   "outputs": [],
   "source": [
    "T = monodromy()"
   ]
  },
  {
   "cell_type": "code",
   "execution_count": 89,
   "id": "4216f38c-d656-4df9-8910-3a5a4f861ad1",
   "metadata": {},
   "outputs": [
    {
     "data": {
      "text/latex": [
       "$\\displaystyle \\left[\\begin{matrix}\\left(\\sqrt{x} \\left(\\sqrt{x} \\phi^{t}_{3} + \\frac{\\phi^{t}_{2}}{\\sqrt{x}}\\right) + \\left(\\phi^{t}_{3} \\phi_{2} + \\frac{1}{x}\\right) \\phi^{t}_{1}\\right) \\phi_{0} + \\frac{\\left(\\sqrt{x} \\phi^{t}_{3} + \\frac{\\phi^{t}_{2}}{\\sqrt{x}}\\right) \\phi_{1} + \\frac{\\phi^{t}_{3} \\phi_{2} + \\frac{1}{x}}{\\sqrt{x}}}{\\sqrt{x}} & \\sqrt{x} \\left(\\sqrt{x} \\left(\\sqrt{x} \\phi^{t}_{3} + \\frac{\\phi^{t}_{2}}{\\sqrt{x}}\\right) + \\left(\\phi^{t}_{3} \\phi_{2} + \\frac{1}{x}\\right) \\phi^{t}_{1}\\right) + \\left(\\left(\\sqrt{x} \\phi^{t}_{3} + \\frac{\\phi^{t}_{2}}{\\sqrt{x}}\\right) \\phi_{1} + \\frac{\\phi^{t}_{3} \\phi_{2} + \\frac{1}{x}}{\\sqrt{x}}\\right) \\phi^{t}_{0}\\\\\\left(\\sqrt{x} \\left(x + \\phi_{3} \\phi^{t}_{2}\\right) + \\left(\\sqrt{x} \\phi_{2} + \\frac{\\phi_{3}}{\\sqrt{x}}\\right) \\phi^{t}_{1}\\right) \\phi_{0} + \\frac{\\left(x + \\phi_{3} \\phi^{t}_{2}\\right) \\phi_{1} + \\frac{\\sqrt{x} \\phi_{2} + \\frac{\\phi_{3}}{\\sqrt{x}}}{\\sqrt{x}}}{\\sqrt{x}} & \\sqrt{x} \\left(\\sqrt{x} \\left(x + \\phi_{3} \\phi^{t}_{2}\\right) + \\left(\\sqrt{x} \\phi_{2} + \\frac{\\phi_{3}}{\\sqrt{x}}\\right) \\phi^{t}_{1}\\right) + \\left(\\left(x + \\phi_{3} \\phi^{t}_{2}\\right) \\phi_{1} + \\frac{\\sqrt{x} \\phi_{2} + \\frac{\\phi_{3}}{\\sqrt{x}}}{\\sqrt{x}}\\right) \\phi^{t}_{0}\\end{matrix}\\right]$"
      ],
      "text/plain": [
       "Matrix([\n",
       "[(sqrt(x)*(sqrt(x)*phi3^t + phi2^t/sqrt(x)) + (phi3^t*phi2 + 1/x)*phi1^t)*phi0 + ((sqrt(x)*phi3^t + phi2^t/sqrt(x))*phi1 + (phi3^t*phi2 + 1/x)/sqrt(x))/sqrt(x), sqrt(x)*(sqrt(x)*(sqrt(x)*phi3^t + phi2^t/sqrt(x)) + (phi3^t*phi2 + 1/x)*phi1^t) + ((sqrt(x)*phi3^t + phi2^t/sqrt(x))*phi1 + (phi3^t*phi2 + 1/x)/sqrt(x))*phi0^t],\n",
       "[            (sqrt(x)*(x + phi3*phi2^t) + (sqrt(x)*phi2 + phi3/sqrt(x))*phi1^t)*phi0 + ((x + phi3*phi2^t)*phi1 + (sqrt(x)*phi2 + phi3/sqrt(x))/sqrt(x))/sqrt(x),             sqrt(x)*(sqrt(x)*(x + phi3*phi2^t) + (sqrt(x)*phi2 + phi3/sqrt(x))*phi1^t) + ((x + phi3*phi2^t)*phi1 + (sqrt(x)*phi2 + phi3/sqrt(x))/sqrt(x))*phi0^t]])"
      ]
     },
     "execution_count": 89,
     "metadata": {},
     "output_type": "execute_result"
    }
   ],
   "source": [
    "T"
   ]
  },
  {
   "cell_type": "code",
   "execution_count": 90,
   "id": "f4fa4980-d52f-4cc2-8321-915f3b03de8a",
   "metadata": {},
   "outputs": [],
   "source": [
    "def b():\n",
    "    ans = x**(sp.Rational(M/2))*monodromy()[0,1]\n",
    "    return ans.expand()"
   ]
  },
  {
   "cell_type": "code",
   "execution_count": 91,
   "id": "b3cc603a-cbee-46d5-9778-ad3b3177b5e6",
   "metadata": {},
   "outputs": [
    {
     "data": {
      "text/latex": [
       "$\\displaystyle x^{3} \\phi^{t}_{3} + x^{2} \\phi^{t}_{2} + x^{2} \\phi^{t}_{3} \\phi_{1} \\phi^{t}_{0} + x^{2} \\phi^{t}_{3} \\phi_{2} \\phi^{t}_{1} + x \\phi^{t}_{1} + x \\phi^{t}_{2} \\phi_{1} \\phi^{t}_{0} + x \\phi^{t}_{3} \\phi_{2} \\phi^{t}_{0} + \\phi^{t}_{0}$"
      ],
      "text/plain": [
       "x**3*phi3^t + x**2*phi2^t + x**2*phi3^t*phi1*phi0^t + x**2*phi3^t*phi2*phi1^t + x*phi1^t + x*phi2^t*phi1*phi0^t + x*phi3^t*phi2*phi0^t + phi0^t"
      ]
     },
     "execution_count": 91,
     "metadata": {},
     "output_type": "execute_result"
    }
   ],
   "source": [
    "b()"
   ]
  },
  {
   "cell_type": "code",
   "execution_count": null,
   "id": "f71c989c-638b-40e7-89e7-2e3101547730",
   "metadata": {},
   "outputs": [],
   "source": []
  }
 ],
 "metadata": {
  "kernelspec": {
   "display_name": "Python 3 (ipykernel)",
   "language": "python",
   "name": "python3"
  },
  "language_info": {
   "codemirror_mode": {
    "name": "ipython",
    "version": 3
   },
   "file_extension": ".py",
   "mimetype": "text/x-python",
   "name": "python",
   "nbconvert_exporter": "python",
   "pygments_lexer": "ipython3",
   "version": "3.12.2"
  }
 },
 "nbformat": 4,
 "nbformat_minor": 5
}
