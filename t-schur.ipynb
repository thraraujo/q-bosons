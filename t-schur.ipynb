{
 "cells": [
  {
   "cell_type": "code",
   "execution_count": 38,
   "id": "29e2f744-ab22-4e85-a9ff-fb25f9132359",
   "metadata": {},
   "outputs": [],
   "source": [
    "import pysymmpol as sy\n",
    "import sympy as sp"
   ]
  },
  {
   "cell_type": "markdown",
   "id": "d738eb8c-d401-47cc-ad15-ded277b24882",
   "metadata": {},
   "source": [
    "# Phase Model"
   ]
  },
  {
   "cell_type": "markdown",
   "id": "950a1738-63a6-42be-946c-e2a67410defa",
   "metadata": {},
   "source": [
    "Here we consider the monodromy matrix for the phase model. "
   ]
  },
  {
   "cell_type": "code",
   "execution_count": 26,
   "id": "cd157b4b-a48d-4a6b-88c3-66f3a3631b89",
   "metadata": {},
   "outputs": [],
   "source": [
    "M = 5 # length of the spin chain is M + 1"
   ]
  },
  {
   "cell_type": "code",
   "execution_count": 27,
   "id": "54b2638e-7b1b-4e16-8715-dcb72243abe2",
   "metadata": {},
   "outputs": [],
   "source": [
    "x = sp.Symbol('x', domain='RR')"
   ]
  },
  {
   "cell_type": "code",
   "execution_count": 28,
   "id": "9a93c80a-8030-46ca-a6bd-4e1c39a1c499",
   "metadata": {},
   "outputs": [],
   "source": [
    "Phi = sp.symbols(f'phi0:{M + 1}', commutative=False)"
   ]
  },
  {
   "cell_type": "code",
   "execution_count": 29,
   "id": "ef12a2b9-4933-42e0-8223-509636de2e50",
   "metadata": {},
   "outputs": [],
   "source": [
    "PhiD = sp.symbols(f'phi0:{M + 1}^t', commutative=False)"
   ]
  },
  {
   "cell_type": "code",
   "execution_count": 30,
   "id": "adf69d3a-c2eb-4dc7-9b66-c1200e879873",
   "metadata": {},
   "outputs": [],
   "source": [
    "def L(i):\n",
    "    return sp.Matrix([[1/sp.sqrt(x), PhiD[i]],[Phi[i], sp.sqrt(x)]])"
   ]
  },
  {
   "cell_type": "code",
   "execution_count": 20,
   "id": "f4ab5303-c8b6-4514-9b1e-4f7db20a85a6",
   "metadata": {},
   "outputs": [
    {
     "data": {
      "text/latex": [
       "$\\displaystyle \\left[\\begin{matrix}\\frac{1}{\\sqrt{x}} & \\phi^{t}_{1}\\\\\\phi_{1} & \\sqrt{x}\\end{matrix}\\right]$"
      ],
      "text/plain": [
       "Matrix([\n",
       "[1/sqrt(x),  phi1^t],\n",
       "[     phi1, sqrt(x)]])"
      ]
     },
     "execution_count": 20,
     "metadata": {},
     "output_type": "execute_result"
    }
   ],
   "source": [
    "L(1)"
   ]
  },
  {
   "cell_type": "code",
   "execution_count": 31,
   "id": "caba9099-44c3-4925-875a-4d3ab8ce005c",
   "metadata": {},
   "outputs": [],
   "source": [
    "def monodromy():\n",
    "    T = 1\n",
    "    for i in range(M+1):\n",
    "        T *= L(M - i)\n",
    "    return T"
   ]
  },
  {
   "cell_type": "code",
   "execution_count": 32,
   "id": "b1cdced6-74c6-4a35-af74-7ee6f5a38b2d",
   "metadata": {},
   "outputs": [],
   "source": [
    "T = monodromy()"
   ]
  },
  {
   "cell_type": "code",
   "execution_count": 23,
   "id": "4216f38c-d656-4df9-8910-3a5a4f861ad1",
   "metadata": {},
   "outputs": [
    {
     "data": {
      "text/latex": [
       "$\\displaystyle \\left[\\begin{matrix}\\left(\\sqrt{x} \\left(\\sqrt{x} \\left(\\sqrt{x} \\phi^{t}_{4} + \\frac{\\phi^{t}_{3}}{\\sqrt{x}}\\right) + \\left(\\phi^{t}_{4} \\phi_{3} + \\frac{1}{x}\\right) \\phi^{t}_{2}\\right) + \\left(\\left(\\sqrt{x} \\phi^{t}_{4} + \\frac{\\phi^{t}_{3}}{\\sqrt{x}}\\right) \\phi_{2} + \\frac{\\phi^{t}_{4} \\phi_{3} + \\frac{1}{x}}{\\sqrt{x}}\\right) \\phi^{t}_{1}\\right) \\phi_{0} + \\frac{\\left(\\sqrt{x} \\left(\\sqrt{x} \\phi^{t}_{4} + \\frac{\\phi^{t}_{3}}{\\sqrt{x}}\\right) + \\left(\\phi^{t}_{4} \\phi_{3} + \\frac{1}{x}\\right) \\phi^{t}_{2}\\right) \\phi_{1} + \\frac{\\left(\\sqrt{x} \\phi^{t}_{4} + \\frac{\\phi^{t}_{3}}{\\sqrt{x}}\\right) \\phi_{2} + \\frac{\\phi^{t}_{4} \\phi_{3} + \\frac{1}{x}}{\\sqrt{x}}}{\\sqrt{x}}}{\\sqrt{x}} & \\sqrt{x} \\left(\\sqrt{x} \\left(\\sqrt{x} \\left(\\sqrt{x} \\phi^{t}_{4} + \\frac{\\phi^{t}_{3}}{\\sqrt{x}}\\right) + \\left(\\phi^{t}_{4} \\phi_{3} + \\frac{1}{x}\\right) \\phi^{t}_{2}\\right) + \\left(\\left(\\sqrt{x} \\phi^{t}_{4} + \\frac{\\phi^{t}_{3}}{\\sqrt{x}}\\right) \\phi_{2} + \\frac{\\phi^{t}_{4} \\phi_{3} + \\frac{1}{x}}{\\sqrt{x}}\\right) \\phi^{t}_{1}\\right) + \\left(\\left(\\sqrt{x} \\left(\\sqrt{x} \\phi^{t}_{4} + \\frac{\\phi^{t}_{3}}{\\sqrt{x}}\\right) + \\left(\\phi^{t}_{4} \\phi_{3} + \\frac{1}{x}\\right) \\phi^{t}_{2}\\right) \\phi_{1} + \\frac{\\left(\\sqrt{x} \\phi^{t}_{4} + \\frac{\\phi^{t}_{3}}{\\sqrt{x}}\\right) \\phi_{2} + \\frac{\\phi^{t}_{4} \\phi_{3} + \\frac{1}{x}}{\\sqrt{x}}}{\\sqrt{x}}\\right) \\phi^{t}_{0}\\\\\\left(\\sqrt{x} \\left(\\sqrt{x} \\left(x + \\phi_{4} \\phi^{t}_{3}\\right) + \\left(\\sqrt{x} \\phi_{3} + \\frac{\\phi_{4}}{\\sqrt{x}}\\right) \\phi^{t}_{2}\\right) + \\left(\\left(x + \\phi_{4} \\phi^{t}_{3}\\right) \\phi_{2} + \\frac{\\sqrt{x} \\phi_{3} + \\frac{\\phi_{4}}{\\sqrt{x}}}{\\sqrt{x}}\\right) \\phi^{t}_{1}\\right) \\phi_{0} + \\frac{\\left(\\sqrt{x} \\left(x + \\phi_{4} \\phi^{t}_{3}\\right) + \\left(\\sqrt{x} \\phi_{3} + \\frac{\\phi_{4}}{\\sqrt{x}}\\right) \\phi^{t}_{2}\\right) \\phi_{1} + \\frac{\\left(x + \\phi_{4} \\phi^{t}_{3}\\right) \\phi_{2} + \\frac{\\sqrt{x} \\phi_{3} + \\frac{\\phi_{4}}{\\sqrt{x}}}{\\sqrt{x}}}{\\sqrt{x}}}{\\sqrt{x}} & \\sqrt{x} \\left(\\sqrt{x} \\left(\\sqrt{x} \\left(x + \\phi_{4} \\phi^{t}_{3}\\right) + \\left(\\sqrt{x} \\phi_{3} + \\frac{\\phi_{4}}{\\sqrt{x}}\\right) \\phi^{t}_{2}\\right) + \\left(\\left(x + \\phi_{4} \\phi^{t}_{3}\\right) \\phi_{2} + \\frac{\\sqrt{x} \\phi_{3} + \\frac{\\phi_{4}}{\\sqrt{x}}}{\\sqrt{x}}\\right) \\phi^{t}_{1}\\right) + \\left(\\left(\\sqrt{x} \\left(x + \\phi_{4} \\phi^{t}_{3}\\right) + \\left(\\sqrt{x} \\phi_{3} + \\frac{\\phi_{4}}{\\sqrt{x}}\\right) \\phi^{t}_{2}\\right) \\phi_{1} + \\frac{\\left(x + \\phi_{4} \\phi^{t}_{3}\\right) \\phi_{2} + \\frac{\\sqrt{x} \\phi_{3} + \\frac{\\phi_{4}}{\\sqrt{x}}}{\\sqrt{x}}}{\\sqrt{x}}\\right) \\phi^{t}_{0}\\end{matrix}\\right]$"
      ],
      "text/plain": [
       "Matrix([\n",
       "[(sqrt(x)*(sqrt(x)*(sqrt(x)*phi4^t + phi3^t/sqrt(x)) + (phi4^t*phi3 + 1/x)*phi2^t) + ((sqrt(x)*phi4^t + phi3^t/sqrt(x))*phi2 + (phi4^t*phi3 + 1/x)/sqrt(x))*phi1^t)*phi0 + ((sqrt(x)*(sqrt(x)*phi4^t + phi3^t/sqrt(x)) + (phi4^t*phi3 + 1/x)*phi2^t)*phi1 + ((sqrt(x)*phi4^t + phi3^t/sqrt(x))*phi2 + (phi4^t*phi3 + 1/x)/sqrt(x))/sqrt(x))/sqrt(x), sqrt(x)*(sqrt(x)*(sqrt(x)*(sqrt(x)*phi4^t + phi3^t/sqrt(x)) + (phi4^t*phi3 + 1/x)*phi2^t) + ((sqrt(x)*phi4^t + phi3^t/sqrt(x))*phi2 + (phi4^t*phi3 + 1/x)/sqrt(x))*phi1^t) + ((sqrt(x)*(sqrt(x)*phi4^t + phi3^t/sqrt(x)) + (phi4^t*phi3 + 1/x)*phi2^t)*phi1 + ((sqrt(x)*phi4^t + phi3^t/sqrt(x))*phi2 + (phi4^t*phi3 + 1/x)/sqrt(x))/sqrt(x))*phi0^t],\n",
       "[                        (sqrt(x)*(sqrt(x)*(x + phi4*phi3^t) + (sqrt(x)*phi3 + phi4/sqrt(x))*phi2^t) + ((x + phi4*phi3^t)*phi2 + (sqrt(x)*phi3 + phi4/sqrt(x))/sqrt(x))*phi1^t)*phi0 + ((sqrt(x)*(x + phi4*phi3^t) + (sqrt(x)*phi3 + phi4/sqrt(x))*phi2^t)*phi1 + ((x + phi4*phi3^t)*phi2 + (sqrt(x)*phi3 + phi4/sqrt(x))/sqrt(x))/sqrt(x))/sqrt(x),                         sqrt(x)*(sqrt(x)*(sqrt(x)*(x + phi4*phi3^t) + (sqrt(x)*phi3 + phi4/sqrt(x))*phi2^t) + ((x + phi4*phi3^t)*phi2 + (sqrt(x)*phi3 + phi4/sqrt(x))/sqrt(x))*phi1^t) + ((sqrt(x)*(x + phi4*phi3^t) + (sqrt(x)*phi3 + phi4/sqrt(x))*phi2^t)*phi1 + ((x + phi4*phi3^t)*phi2 + (sqrt(x)*phi3 + phi4/sqrt(x))/sqrt(x))/sqrt(x))*phi0^t]])"
      ]
     },
     "execution_count": 23,
     "metadata": {},
     "output_type": "execute_result"
    }
   ],
   "source": [
    "T"
   ]
  },
  {
   "cell_type": "code",
   "execution_count": 33,
   "id": "f4fa4980-d52f-4cc2-8321-915f3b03de8a",
   "metadata": {},
   "outputs": [],
   "source": [
    "def b():\n",
    "    ans = x**(sp.Rational(M/2))*monodromy()[0,1]\n",
    "    return ans.expand()"
   ]
  },
  {
   "cell_type": "code",
   "execution_count": 34,
   "id": "b3cc603a-cbee-46d5-9778-ad3b3177b5e6",
   "metadata": {},
   "outputs": [
    {
     "data": {
      "text/latex": [
       "$\\displaystyle \\phi^{t}_{2} + \\phi^{t}_{3} \\phi_{1} \\phi^{t}_{0} + \\phi^{t}_{3} \\phi_{2} \\phi^{t}_{1} + \\phi^{t}_{4} \\phi_{2} \\phi^{t}_{0} + \\phi^{t}_{4} \\phi_{3} \\phi^{t}_{1} + \\phi^{t}_{4} \\phi_{3} \\phi^{t}_{2} \\phi_{1} \\phi^{t}_{0} + \\phi^{t}_{5} \\phi_{3} \\phi^{t}_{0} + \\phi^{t}_{5} \\phi_{4} \\phi^{t}_{1} + \\phi^{t}_{5} \\phi_{4} \\phi^{t}_{2} \\phi_{1} \\phi^{t}_{0} + \\phi^{t}_{5} \\phi_{4} \\phi^{t}_{3} \\phi_{2} \\phi^{t}_{0}$"
      ],
      "text/plain": [
       "phi2^t + phi3^t*phi1*phi0^t + phi3^t*phi2*phi1^t + phi4^t*phi2*phi0^t + phi4^t*phi3*phi1^t + phi4^t*phi3*phi2^t*phi1*phi0^t + phi5^t*phi3*phi0^t + phi5^t*phi4*phi1^t + phi5^t*phi4*phi2^t*phi1*phi0^t + phi5^t*phi4*phi3^t*phi2*phi0^t"
      ]
     },
     "execution_count": 34,
     "metadata": {},
     "output_type": "execute_result"
    }
   ],
   "source": [
    "(b().diff(x,2)/2).evalf(subs={x:0})"
   ]
  },
  {
   "cell_type": "markdown",
   "id": "ba07625f-f228-41ea-8b03-be645a90b454",
   "metadata": {},
   "source": [
    "# Young Diagrams"
   ]
  },
  {
   "cell_type": "code",
   "execution_count": 39,
   "id": "b22a4c76-a4ce-4f20-8a97-ae3f06c18c3c",
   "metadata": {},
   "outputs": [],
   "source": [
    "# Let us create some Young diagrams to use as examples in the text.\n",
    "lam = sy.YoungDiagram((3,3,1))"
   ]
  },
  {
   "cell_type": "code",
   "execution_count": 40,
   "id": "a94148b1-60ca-416b-a775-072c221f3de3",
   "metadata": {},
   "outputs": [],
   "source": [
    "mu_part = [(3,3,2,1), (3,3,3), (4,3,1,1), (4,3,2), (5,3,1)]\n",
    "mu = [sy.YoungDiagram(a) for a in mu_part]"
   ]
  },
  {
   "cell_type": "code",
   "execution_count": 42,
   "id": "5c715929-16d8-4277-a96b-3ad38fdb1cf5",
   "metadata": {},
   "outputs": [
    {
     "name": "stdout",
     "output_type": "stream",
     "text": [
      "■ \n",
      "■ ■ ■ \n",
      "■ ■ ■ \n"
     ]
    }
   ],
   "source": [
    "lam.draw_diagram()"
   ]
  },
  {
   "cell_type": "code",
   "execution_count": 45,
   "id": "f1f2f388-9c22-45ca-9c1a-ac4b7e00041b",
   "metadata": {},
   "outputs": [
    {
     "name": "stdout",
     "output_type": "stream",
     "text": [
      " -- \n",
      "■ \n",
      "■ ■ \n",
      "■ ■ ■ \n",
      "■ ■ ■ \n",
      " -- \n",
      "■ ■ ■ \n",
      "■ ■ ■ \n",
      "■ ■ ■ \n",
      " -- \n",
      "■ \n",
      "■ \n",
      "■ ■ ■ \n",
      "■ ■ ■ ■ \n",
      " -- \n",
      "■ ■ \n",
      "■ ■ ■ \n",
      "■ ■ ■ ■ \n",
      " -- \n",
      "■ \n",
      "■ ■ ■ \n",
      "■ ■ ■ ■ ■ \n"
     ]
    }
   ],
   "source": [
    "for m in mu:\n",
    "    print(\" -- \")\n",
    "    m.draw_diagram()"
   ]
  },
  {
   "cell_type": "code",
   "execution_count": 48,
   "id": "e4890d73-ced7-4440-b8d4-56f227d97f57",
   "metadata": {},
   "outputs": [
    {
     "name": "stdout",
     "output_type": "stream",
     "text": [
      "True\n",
      "True\n",
      "True\n",
      "True\n",
      "True\n"
     ]
    }
   ],
   "source": [
    "for m in mu:\n",
    "    print(m.interlaces(lam))"
   ]
  },
  {
   "cell_type": "code",
   "execution_count": null,
   "id": "d88eadb8-689e-473b-8023-b5d18290e80f",
   "metadata": {},
   "outputs": [],
   "source": []
  }
 ],
 "metadata": {
  "kernelspec": {
   "display_name": "Python 3 (ipykernel)",
   "language": "python",
   "name": "python3"
  },
  "language_info": {
   "codemirror_mode": {
    "name": "ipython",
    "version": 3
   },
   "file_extension": ".py",
   "mimetype": "text/x-python",
   "name": "python",
   "nbconvert_exporter": "python",
   "pygments_lexer": "ipython3",
   "version": "3.12.2"
  }
 },
 "nbformat": 4,
 "nbformat_minor": 5
}
