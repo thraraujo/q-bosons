{
 "cells": [
  {
   "cell_type": "code",
   "execution_count": 1,
   "id": "29e2f744-ab22-4e85-a9ff-fb25f9132359",
   "metadata": {},
   "outputs": [],
   "source": [
    "#import pysymmpol as sy\n",
    "import sympy as sp\n",
    "import numpy as np"
   ]
  },
  {
   "cell_type": "markdown",
   "id": "d738eb8c-d401-47cc-ad15-ded277b24882",
   "metadata": {},
   "source": [
    "# Phase Model"
   ]
  },
  {
   "cell_type": "markdown",
   "id": "950a1738-63a6-42be-946c-e2a67410defa",
   "metadata": {},
   "source": [
    "Here we consider the monodromy matrix for the phase model. "
   ]
  },
  {
   "cell_type": "code",
   "execution_count": 2,
   "id": "cd157b4b-a48d-4a6b-88c3-66f3a3631b89",
   "metadata": {},
   "outputs": [],
   "source": [
    "M = 2 # length of the spin chain is M + 1"
   ]
  },
  {
   "cell_type": "code",
   "execution_count": 3,
   "id": "54b2638e-7b1b-4e16-8715-dcb72243abe2",
   "metadata": {},
   "outputs": [],
   "source": [
    "x = sp.Symbol('x', domain='RR')"
   ]
  },
  {
   "cell_type": "code",
   "execution_count": 4,
   "id": "9a93c80a-8030-46ca-a6bd-4e1c39a1c499",
   "metadata": {},
   "outputs": [],
   "source": [
    "Phi = sp.symbols(f'phi0:{M + 1}', commutative=False)"
   ]
  },
  {
   "cell_type": "code",
   "execution_count": 5,
   "id": "ef12a2b9-4933-42e0-8223-509636de2e50",
   "metadata": {},
   "outputs": [],
   "source": [
    "PhiD = sp.symbols(f'phi0:{M + 1}^t', commutative=False)"
   ]
  },
  {
   "cell_type": "code",
   "execution_count": 6,
   "id": "adf69d3a-c2eb-4dc7-9b66-c1200e879873",
   "metadata": {},
   "outputs": [],
   "source": [
    "def L(i):\n",
    "    return sp.Matrix([[1/sp.sqrt(x), PhiD[i]],[Phi[i], sp.sqrt(x)]])"
   ]
  },
  {
   "cell_type": "code",
   "execution_count": 7,
   "id": "f4ab5303-c8b6-4514-9b1e-4f7db20a85a6",
   "metadata": {},
   "outputs": [
    {
     "data": {
      "text/latex": [
       "$\\displaystyle \\left[\\begin{matrix}\\frac{1}{\\sqrt{x}} & \\phi^{t}_{1}\\\\\\phi_{1} & \\sqrt{x}\\end{matrix}\\right]$"
      ],
      "text/plain": [
       "Matrix([\n",
       "[1/sqrt(x),  phi1^t],\n",
       "[     phi1, sqrt(x)]])"
      ]
     },
     "execution_count": 7,
     "metadata": {},
     "output_type": "execute_result"
    }
   ],
   "source": [
    "L(1)"
   ]
  },
  {
   "cell_type": "code",
   "execution_count": 8,
   "id": "caba9099-44c3-4925-875a-4d3ab8ce005c",
   "metadata": {},
   "outputs": [],
   "source": [
    "def monodromy():\n",
    "    T = 1\n",
    "    for i in range(M+1):\n",
    "        T *= L(M - i)\n",
    "    return T"
   ]
  },
  {
   "cell_type": "code",
   "execution_count": 9,
   "id": "b1cdced6-74c6-4a35-af74-7ee6f5a38b2d",
   "metadata": {},
   "outputs": [],
   "source": [
    "T = monodromy()"
   ]
  },
  {
   "cell_type": "code",
   "execution_count": 10,
   "id": "4216f38c-d656-4df9-8910-3a5a4f861ad1",
   "metadata": {},
   "outputs": [
    {
     "data": {
      "text/latex": [
       "$\\displaystyle \\left[\\begin{matrix}\\left(\\sqrt{x} \\phi^{t}_{2} + \\frac{\\phi^{t}_{1}}{\\sqrt{x}}\\right) \\phi_{0} + \\frac{\\phi^{t}_{2} \\phi_{1} + \\frac{1}{x}}{\\sqrt{x}} & \\sqrt{x} \\left(\\sqrt{x} \\phi^{t}_{2} + \\frac{\\phi^{t}_{1}}{\\sqrt{x}}\\right) + \\left(\\phi^{t}_{2} \\phi_{1} + \\frac{1}{x}\\right) \\phi^{t}_{0}\\\\\\left(x + \\phi_{2} \\phi^{t}_{1}\\right) \\phi_{0} + \\frac{\\sqrt{x} \\phi_{1} + \\frac{\\phi_{2}}{\\sqrt{x}}}{\\sqrt{x}} & \\sqrt{x} \\left(x + \\phi_{2} \\phi^{t}_{1}\\right) + \\left(\\sqrt{x} \\phi_{1} + \\frac{\\phi_{2}}{\\sqrt{x}}\\right) \\phi^{t}_{0}\\end{matrix}\\right]$"
      ],
      "text/plain": [
       "Matrix([\n",
       "[(sqrt(x)*phi2^t + phi1^t/sqrt(x))*phi0 + (phi2^t*phi1 + 1/x)/sqrt(x), sqrt(x)*(sqrt(x)*phi2^t + phi1^t/sqrt(x)) + (phi2^t*phi1 + 1/x)*phi0^t],\n",
       "[      (x + phi2*phi1^t)*phi0 + (sqrt(x)*phi1 + phi2/sqrt(x))/sqrt(x),       sqrt(x)*(x + phi2*phi1^t) + (sqrt(x)*phi1 + phi2/sqrt(x))*phi0^t]])"
      ]
     },
     "execution_count": 10,
     "metadata": {},
     "output_type": "execute_result"
    }
   ],
   "source": [
    "T"
   ]
  },
  {
   "cell_type": "code",
   "execution_count": 26,
   "id": "f4fa4980-d52f-4cc2-8321-915f3b03de8a",
   "metadata": {},
   "outputs": [],
   "source": [
    "def b():\n",
    "    ans = x**(sp.Rational(M/2))*monodromy()[0,1]\n",
    "    return ans.expand()\n",
    "\n",
    "def a():\n",
    "    ans = x**(sp.Rational((M + 1)/2))*monodromy()[0,0]\n",
    "    return ans.expand()"
   ]
  },
  {
   "cell_type": "code",
   "execution_count": 24,
   "id": "b3cc603a-cbee-46d5-9778-ad3b3177b5e6",
   "metadata": {},
   "outputs": [
    {
     "data": {
      "text/latex": [
       "$\\displaystyle \\phi^{t}_{2}$"
      ],
      "text/plain": [
       "phi2^t"
      ]
     },
     "execution_count": 24,
     "metadata": {},
     "output_type": "execute_result"
    }
   ],
   "source": [
    "(b().diff(x,2)/2).evalf(subs={x:0})"
   ]
  },
  {
   "cell_type": "code",
   "execution_count": 27,
   "id": "d53b100f-cefa-48c2-a2e4-7f7bd3cd72c5",
   "metadata": {},
   "outputs": [
    {
     "data": {
      "text/latex": [
       "$\\displaystyle x^{2} \\phi^{t}_{2} \\phi_{0} + x \\phi^{t}_{1} \\phi_{0} + x \\phi^{t}_{2} \\phi_{1} + 1$"
      ],
      "text/plain": [
       "x**2*phi2^t*phi0 + x*phi1^t*phi0 + x*phi2^t*phi1 + 1"
      ]
     },
     "execution_count": 27,
     "metadata": {},
     "output_type": "execute_result"
    }
   ],
   "source": [
    "a()"
   ]
  },
  {
   "cell_type": "code",
   "execution_count": null,
   "id": "f7e21908-c8c3-4f5a-932a-64988480c378",
   "metadata": {},
   "outputs": [],
   "source": [
    "(a().diff(x,2)/2).evalf(subs={x:0})"
   ]
  },
  {
   "cell_type": "markdown",
   "id": "ba07625f-f228-41ea-8b03-be645a90b454",
   "metadata": {
    "jp-MarkdownHeadingCollapsed": true
   },
   "source": [
    "# Young Diagrams"
   ]
  },
  {
   "cell_type": "code",
   "execution_count": 39,
   "id": "b22a4c76-a4ce-4f20-8a97-ae3f06c18c3c",
   "metadata": {},
   "outputs": [],
   "source": [
    "# Let us create some Young diagrams to use as examples in the text.\n",
    "lam = sy.YoungDiagram((3,3,1))"
   ]
  },
  {
   "cell_type": "code",
   "execution_count": 40,
   "id": "a94148b1-60ca-416b-a775-072c221f3de3",
   "metadata": {},
   "outputs": [],
   "source": [
    "mu_part = [(3,3,2,1), (3,3,3), (4,3,1,1), (4,3,2), (5,3,1)]\n",
    "mu = [sy.YoungDiagram(a) for a in mu_part]"
   ]
  },
  {
   "cell_type": "code",
   "execution_count": 42,
   "id": "5c715929-16d8-4277-a96b-3ad38fdb1cf5",
   "metadata": {},
   "outputs": [
    {
     "name": "stdout",
     "output_type": "stream",
     "text": [
      "■ \n",
      "■ ■ ■ \n",
      "■ ■ ■ \n"
     ]
    }
   ],
   "source": [
    "lam.draw_diagram()"
   ]
  },
  {
   "cell_type": "code",
   "execution_count": 45,
   "id": "f1f2f388-9c22-45ca-9c1a-ac4b7e00041b",
   "metadata": {},
   "outputs": [
    {
     "name": "stdout",
     "output_type": "stream",
     "text": [
      " -- \n",
      "■ \n",
      "■ ■ \n",
      "■ ■ ■ \n",
      "■ ■ ■ \n",
      " -- \n",
      "■ ■ ■ \n",
      "■ ■ ■ \n",
      "■ ■ ■ \n",
      " -- \n",
      "■ \n",
      "■ \n",
      "■ ■ ■ \n",
      "■ ■ ■ ■ \n",
      " -- \n",
      "■ ■ \n",
      "■ ■ ■ \n",
      "■ ■ ■ ■ \n",
      " -- \n",
      "■ \n",
      "■ ■ ■ \n",
      "■ ■ ■ ■ ■ \n"
     ]
    }
   ],
   "source": [
    "for m in mu:\n",
    "    print(\" -- \")\n",
    "    m.draw_diagram()"
   ]
  },
  {
   "cell_type": "code",
   "execution_count": 48,
   "id": "e4890d73-ced7-4440-b8d4-56f227d97f57",
   "metadata": {},
   "outputs": [
    {
     "name": "stdout",
     "output_type": "stream",
     "text": [
      "True\n",
      "True\n",
      "True\n",
      "True\n",
      "True\n"
     ]
    }
   ],
   "source": [
    "for m in mu:\n",
    "    print(m.interlaces(lam))"
   ]
  },
  {
   "cell_type": "markdown",
   "id": "2bdd6b8f-f2ac-46a9-a27b-b9a9678d52ff",
   "metadata": {},
   "source": [
    "# Cauchy identity tau function for Hall-Littlewood"
   ]
  },
  {
   "cell_type": "code",
   "execution_count": 72,
   "id": "d48c7f1a-eb91-4bad-b2fe-6a80319d4dd7",
   "metadata": {},
   "outputs": [],
   "source": [
    "M = 1"
   ]
  },
  {
   "cell_type": "code",
   "execution_count": 73,
   "id": "2f885e13-82b6-475f-a19e-d0029140c263",
   "metadata": {},
   "outputs": [],
   "source": [
    "Q = sp.Symbol('Q')\n",
    "z = sp.Symbol('z')\n",
    "w = sp.Symbol('w')"
   ]
  },
  {
   "cell_type": "code",
   "execution_count": 74,
   "id": "da576ba6-cf18-46c8-b1ce-6a16497316b4",
   "metadata": {},
   "outputs": [],
   "source": [
    "x = sp.symbols(f'x1:{M + 2}')\n",
    "y = sp.symbols(f'y1:{M + 2}')"
   ]
  },
  {
   "cell_type": "code",
   "execution_count": 75,
   "id": "f41c4523-fd5d-462d-8c5a-924e2ffef074",
   "metadata": {},
   "outputs": [
    {
     "data": {
      "text/plain": [
       "(x1, x2)"
      ]
     },
     "execution_count": 75,
     "metadata": {},
     "output_type": "execute_result"
    }
   ],
   "source": [
    "x"
   ]
  },
  {
   "cell_type": "code",
   "execution_count": 85,
   "id": "907aa946-c34b-4452-acf6-ee53cd58a3f3",
   "metadata": {},
   "outputs": [],
   "source": [
    "def h(q, z,w):\n",
    "    return (1 - q * z * w)/(1 - z * w)"
   ]
  },
  {
   "cell_type": "code",
   "execution_count": 88,
   "id": "fcbd2c18-8494-4479-b66e-acf93d2d0147",
   "metadata": {},
   "outputs": [],
   "source": [
    "def H(q): \n",
    "    ma = sp.zeros(M+1)\n",
    "    for i in range(M+1):\n",
    "        for j in range(M+1):\n",
    "            ma[i,j] = h(q, x[i], y[j]) #    [[ma[i,j] = H(x[i], (Q**n) * y[j]) for j in range(M+1)] for i in range(M+1)]\n",
    "    return ma"
   ]
  },
  {
   "cell_type": "code",
   "execution_count": 96,
   "id": "610d3c0a-4abd-4d54-95ab-787ac94aebb6",
   "metadata": {},
   "outputs": [],
   "source": [
    "Ha = H(Q)"
   ]
  },
  {
   "cell_type": "code",
   "execution_count": 97,
   "id": "94366fb6-933c-4aac-a2b7-dd69eb6a1238",
   "metadata": {},
   "outputs": [
    {
     "data": {
      "text/latex": [
       "$\\displaystyle \\left[\\begin{matrix}\\frac{- Q x_{1} y_{1} + 1}{- x_{1} y_{1} + 1} & \\frac{- Q x_{1} y_{2} + 1}{- x_{1} y_{2} + 1}\\\\\\frac{- Q x_{2} y_{1} + 1}{- x_{2} y_{1} + 1} & \\frac{- Q x_{2} y_{2} + 1}{- x_{2} y_{2} + 1}\\end{matrix}\\right]$"
      ],
      "text/plain": [
       "Matrix([\n",
       "[(-Q*x1*y1 + 1)/(-x1*y1 + 1), (-Q*x1*y2 + 1)/(-x1*y2 + 1)],\n",
       "[(-Q*x2*y1 + 1)/(-x2*y1 + 1), (-Q*x2*y2 + 1)/(-x2*y2 + 1)]])"
      ]
     },
     "execution_count": 97,
     "metadata": {},
     "output_type": "execute_result"
    }
   ],
   "source": [
    "Ha"
   ]
  },
  {
   "cell_type": "code",
   "execution_count": 102,
   "id": "2501549e-8177-40b0-ac81-7072b4800657",
   "metadata": {},
   "outputs": [],
   "source": [
    "Hi = Ha.inv()"
   ]
  },
  {
   "cell_type": "code",
   "execution_count": 108,
   "id": "6d127567-51f6-49a2-ad96-ece6bde6c127",
   "metadata": {},
   "outputs": [],
   "source": [
    "Hi.simplify()"
   ]
  },
  {
   "cell_type": "code",
   "execution_count": 109,
   "id": "b695a762-1d38-45f4-b204-fe58083ca7ac",
   "metadata": {},
   "outputs": [
    {
     "data": {
      "text/latex": [
       "$\\displaystyle \\left[\\begin{matrix}\\frac{Q x_{1}^{2} x_{2}^{2} y_{1}^{2} y_{2}^{2} - Q x_{1}^{2} x_{2} y_{1} y_{2}^{2} - Q x_{1} x_{2}^{2} y_{1}^{2} y_{2} - Q x_{1} x_{2}^{2} y_{1} y_{2}^{2} + Q x_{1} x_{2} y_{1} y_{2} + Q x_{1} x_{2} y_{2}^{2} + Q x_{2}^{2} y_{1} y_{2} - Q x_{2} y_{2} - x_{1}^{2} x_{2} y_{1}^{2} y_{2} + x_{1}^{2} y_{1} y_{2} + x_{1} x_{2} y_{1}^{2} + x_{1} x_{2} y_{1} y_{2} - x_{1} y_{1} - x_{1} y_{2} - x_{2} y_{1} + 1}{Q^{2} x_{1}^{2} x_{2} y_{1}^{2} y_{2} - Q^{2} x_{1}^{2} x_{2} y_{1} y_{2}^{2} - Q^{2} x_{1} x_{2}^{2} y_{1}^{2} y_{2} + Q^{2} x_{1} x_{2}^{2} y_{1} y_{2}^{2} - Q x_{1}^{2} x_{2} y_{1}^{2} y_{2} + Q x_{1}^{2} x_{2} y_{1} y_{2}^{2} + Q x_{1} x_{2}^{2} y_{1}^{2} y_{2} - Q x_{1} x_{2}^{2} y_{1} y_{2}^{2} - Q x_{1} y_{1} + Q x_{1} y_{2} + Q x_{2} y_{1} - Q x_{2} y_{2} + x_{1} y_{1} - x_{1} y_{2} - x_{2} y_{1} + x_{2} y_{2}} & \\frac{- Q x_{1}^{2} x_{2}^{2} y_{1}^{2} y_{2}^{2} + Q x_{1}^{2} x_{2} y_{1}^{2} y_{2} + Q x_{1}^{2} x_{2} y_{1} y_{2}^{2} - Q x_{1}^{2} y_{1} y_{2} + Q x_{1} x_{2}^{2} y_{1} y_{2}^{2} - Q x_{1} x_{2} y_{1} y_{2} - Q x_{1} x_{2} y_{2}^{2} + Q x_{1} y_{2} + x_{1} x_{2}^{2} y_{1}^{2} y_{2} - x_{1} x_{2} y_{1}^{2} - x_{1} x_{2} y_{1} y_{2} + x_{1} y_{1} - x_{2}^{2} y_{1} y_{2} + x_{2} y_{1} + x_{2} y_{2} - 1}{Q^{2} x_{1}^{2} x_{2} y_{1}^{2} y_{2} - Q^{2} x_{1}^{2} x_{2} y_{1} y_{2}^{2} - Q^{2} x_{1} x_{2}^{2} y_{1}^{2} y_{2} + Q^{2} x_{1} x_{2}^{2} y_{1} y_{2}^{2} - Q x_{1}^{2} x_{2} y_{1}^{2} y_{2} + Q x_{1}^{2} x_{2} y_{1} y_{2}^{2} + Q x_{1} x_{2}^{2} y_{1}^{2} y_{2} - Q x_{1} x_{2}^{2} y_{1} y_{2}^{2} - Q x_{1} y_{1} + Q x_{1} y_{2} + Q x_{2} y_{1} - Q x_{2} y_{2} + x_{1} y_{1} - x_{1} y_{2} - x_{2} y_{1} + x_{2} y_{2}}\\\\\\frac{- Q x_{1}^{2} x_{2}^{2} y_{1}^{2} y_{2}^{2} + Q x_{1}^{2} x_{2} y_{1}^{2} y_{2} + Q x_{1} x_{2}^{2} y_{1}^{2} y_{2} + Q x_{1} x_{2}^{2} y_{1} y_{2}^{2} - Q x_{1} x_{2} y_{1}^{2} - Q x_{1} x_{2} y_{1} y_{2} - Q x_{2}^{2} y_{1} y_{2} + Q x_{2} y_{1} + x_{1}^{2} x_{2} y_{1} y_{2}^{2} - x_{1}^{2} y_{1} y_{2} - x_{1} x_{2} y_{1} y_{2} - x_{1} x_{2} y_{2}^{2} + x_{1} y_{1} + x_{1} y_{2} + x_{2} y_{2} - 1}{Q^{2} x_{1}^{2} x_{2} y_{1}^{2} y_{2} - Q^{2} x_{1}^{2} x_{2} y_{1} y_{2}^{2} - Q^{2} x_{1} x_{2}^{2} y_{1}^{2} y_{2} + Q^{2} x_{1} x_{2}^{2} y_{1} y_{2}^{2} - Q x_{1}^{2} x_{2} y_{1}^{2} y_{2} + Q x_{1}^{2} x_{2} y_{1} y_{2}^{2} + Q x_{1} x_{2}^{2} y_{1}^{2} y_{2} - Q x_{1} x_{2}^{2} y_{1} y_{2}^{2} - Q x_{1} y_{1} + Q x_{1} y_{2} + Q x_{2} y_{1} - Q x_{2} y_{2} + x_{1} y_{1} - x_{1} y_{2} - x_{2} y_{1} + x_{2} y_{2}} & \\frac{Q x_{1}^{2} x_{2}^{2} y_{1}^{2} y_{2}^{2} - Q x_{1}^{2} x_{2} y_{1}^{2} y_{2} - Q x_{1}^{2} x_{2} y_{1} y_{2}^{2} + Q x_{1}^{2} y_{1} y_{2} - Q x_{1} x_{2}^{2} y_{1}^{2} y_{2} + Q x_{1} x_{2} y_{1}^{2} + Q x_{1} x_{2} y_{1} y_{2} - Q x_{1} y_{1} - x_{1} x_{2}^{2} y_{1} y_{2}^{2} + x_{1} x_{2} y_{1} y_{2} + x_{1} x_{2} y_{2}^{2} - x_{1} y_{2} + x_{2}^{2} y_{1} y_{2} - x_{2} y_{1} - x_{2} y_{2} + 1}{Q^{2} x_{1}^{2} x_{2} y_{1}^{2} y_{2} - Q^{2} x_{1}^{2} x_{2} y_{1} y_{2}^{2} - Q^{2} x_{1} x_{2}^{2} y_{1}^{2} y_{2} + Q^{2} x_{1} x_{2}^{2} y_{1} y_{2}^{2} - Q x_{1}^{2} x_{2} y_{1}^{2} y_{2} + Q x_{1}^{2} x_{2} y_{1} y_{2}^{2} + Q x_{1} x_{2}^{2} y_{1}^{2} y_{2} - Q x_{1} x_{2}^{2} y_{1} y_{2}^{2} - Q x_{1} y_{1} + Q x_{1} y_{2} + Q x_{2} y_{1} - Q x_{2} y_{2} + x_{1} y_{1} - x_{1} y_{2} - x_{2} y_{1} + x_{2} y_{2}}\\end{matrix}\\right]$"
      ],
      "text/plain": [
       "Matrix([\n",
       "[ (Q*x1**2*x2**2*y1**2*y2**2 - Q*x1**2*x2*y1*y2**2 - Q*x1*x2**2*y1**2*y2 - Q*x1*x2**2*y1*y2**2 + Q*x1*x2*y1*y2 + Q*x1*x2*y2**2 + Q*x2**2*y1*y2 - Q*x2*y2 - x1**2*x2*y1**2*y2 + x1**2*y1*y2 + x1*x2*y1**2 + x1*x2*y1*y2 - x1*y1 - x1*y2 - x2*y1 + 1)/(Q**2*x1**2*x2*y1**2*y2 - Q**2*x1**2*x2*y1*y2**2 - Q**2*x1*x2**2*y1**2*y2 + Q**2*x1*x2**2*y1*y2**2 - Q*x1**2*x2*y1**2*y2 + Q*x1**2*x2*y1*y2**2 + Q*x1*x2**2*y1**2*y2 - Q*x1*x2**2*y1*y2**2 - Q*x1*y1 + Q*x1*y2 + Q*x2*y1 - Q*x2*y2 + x1*y1 - x1*y2 - x2*y1 + x2*y2), (-Q*x1**2*x2**2*y1**2*y2**2 + Q*x1**2*x2*y1**2*y2 + Q*x1**2*x2*y1*y2**2 - Q*x1**2*y1*y2 + Q*x1*x2**2*y1*y2**2 - Q*x1*x2*y1*y2 - Q*x1*x2*y2**2 + Q*x1*y2 + x1*x2**2*y1**2*y2 - x1*x2*y1**2 - x1*x2*y1*y2 + x1*y1 - x2**2*y1*y2 + x2*y1 + x2*y2 - 1)/(Q**2*x1**2*x2*y1**2*y2 - Q**2*x1**2*x2*y1*y2**2 - Q**2*x1*x2**2*y1**2*y2 + Q**2*x1*x2**2*y1*y2**2 - Q*x1**2*x2*y1**2*y2 + Q*x1**2*x2*y1*y2**2 + Q*x1*x2**2*y1**2*y2 - Q*x1*x2**2*y1*y2**2 - Q*x1*y1 + Q*x1*y2 + Q*x2*y1 - Q*x2*y2 + x1*y1 - x1*y2 - x2*y1 + x2*y2)],\n",
       "[(-Q*x1**2*x2**2*y1**2*y2**2 + Q*x1**2*x2*y1**2*y2 + Q*x1*x2**2*y1**2*y2 + Q*x1*x2**2*y1*y2**2 - Q*x1*x2*y1**2 - Q*x1*x2*y1*y2 - Q*x2**2*y1*y2 + Q*x2*y1 + x1**2*x2*y1*y2**2 - x1**2*y1*y2 - x1*x2*y1*y2 - x1*x2*y2**2 + x1*y1 + x1*y2 + x2*y2 - 1)/(Q**2*x1**2*x2*y1**2*y2 - Q**2*x1**2*x2*y1*y2**2 - Q**2*x1*x2**2*y1**2*y2 + Q**2*x1*x2**2*y1*y2**2 - Q*x1**2*x2*y1**2*y2 + Q*x1**2*x2*y1*y2**2 + Q*x1*x2**2*y1**2*y2 - Q*x1*x2**2*y1*y2**2 - Q*x1*y1 + Q*x1*y2 + Q*x2*y1 - Q*x2*y2 + x1*y1 - x1*y2 - x2*y1 + x2*y2),  (Q*x1**2*x2**2*y1**2*y2**2 - Q*x1**2*x2*y1**2*y2 - Q*x1**2*x2*y1*y2**2 + Q*x1**2*y1*y2 - Q*x1*x2**2*y1**2*y2 + Q*x1*x2*y1**2 + Q*x1*x2*y1*y2 - Q*x1*y1 - x1*x2**2*y1*y2**2 + x1*x2*y1*y2 + x1*x2*y2**2 - x1*y2 + x2**2*y1*y2 - x2*y1 - x2*y2 + 1)/(Q**2*x1**2*x2*y1**2*y2 - Q**2*x1**2*x2*y1*y2**2 - Q**2*x1*x2**2*y1**2*y2 + Q**2*x1*x2**2*y1*y2**2 - Q*x1**2*x2*y1**2*y2 + Q*x1**2*x2*y1*y2**2 + Q*x1*x2**2*y1**2*y2 - Q*x1*x2**2*y1*y2**2 - Q*x1*y1 + Q*x1*y2 + Q*x2*y1 - Q*x2*y2 + x1*y1 - x1*y2 - x2*y1 + x2*y2)]])"
      ]
     },
     "execution_count": 109,
     "metadata": {},
     "output_type": "execute_result"
    }
   ],
   "source": [
    "Hi"
   ]
  },
  {
   "cell_type": "code",
   "execution_count": 103,
   "id": "e29ba501-558e-489e-a3f4-3b86a71c7bd8",
   "metadata": {},
   "outputs": [],
   "source": [
    "A = Ha * Hi"
   ]
  },
  {
   "cell_type": "code",
   "execution_count": 105,
   "id": "322f6c04-21f2-4bf4-9858-e0b2f2b3d930",
   "metadata": {},
   "outputs": [],
   "source": [
    "A.simplify()"
   ]
  },
  {
   "cell_type": "code",
   "execution_count": 106,
   "id": "c8e0d3f5-71de-4461-812e-2ac4b1c36051",
   "metadata": {},
   "outputs": [
    {
     "data": {
      "text/latex": [
       "$\\displaystyle \\left[\\begin{matrix}1 & 0\\\\0 & 1\\end{matrix}\\right]$"
      ],
      "text/plain": [
       "Matrix([\n",
       "[1, 0],\n",
       "[0, 1]])"
      ]
     },
     "execution_count": 106,
     "metadata": {},
     "output_type": "execute_result"
    }
   ],
   "source": [
    "A"
   ]
  },
  {
   "cell_type": "markdown",
   "id": "af7362c5-047c-4980-82c2-e131461fb140",
   "metadata": {},
   "source": [
    "# Vandermonde"
   ]
  },
  {
   "cell_type": "code",
   "execution_count": 142,
   "id": "15b172bc-ac1e-4d9f-ba8a-ba9e743c6577",
   "metadata": {},
   "outputs": [],
   "source": [
    "x = sp.Symbol('Q')\n",
    "M = 5\n",
    "x = sp.symbols(f'x1:{M + 2}')"
   ]
  },
  {
   "cell_type": "code",
   "execution_count": 147,
   "id": "8818f2f2-cdca-4285-b126-7761fd3eda16",
   "metadata": {},
   "outputs": [
    {
     "data": {
      "text/plain": [
       "array([x1, x2, x3, x4, x5, x6], dtype=object)"
      ]
     },
     "execution_count": 147,
     "metadata": {},
     "output_type": "execute_result"
    }
   ],
   "source": [
    "x"
   ]
  },
  {
   "cell_type": "code",
   "execution_count": 143,
   "id": "295a1bee-9897-4ef9-907a-0550172f0539",
   "metadata": {},
   "outputs": [],
   "source": [
    "x = np.array(x)"
   ]
  },
  {
   "cell_type": "code",
   "execution_count": 144,
   "id": "57c2c7f6-57d0-4547-9f0d-a7ef609a1cfc",
   "metadata": {},
   "outputs": [],
   "source": [
    "def Vand(X):\n",
    "    de = 1\n",
    "    for i in range(len(X)):\n",
    "        for j in range(len(X)):\n",
    "          if j < i:\n",
    "              de *= X[i] - X[j]\n",
    "    return de"
   ]
  },
  {
   "cell_type": "code",
   "execution_count": 145,
   "id": "38ae165b-9697-4835-a538-d293fb638148",
   "metadata": {},
   "outputs": [
    {
     "data": {
      "text/latex": [
       "$\\displaystyle \\left(- x_{1} + x_{2}\\right) \\left(- x_{1} + x_{3}\\right) \\left(- x_{1} + x_{4}\\right) \\left(- x_{1} + x_{5}\\right) \\left(- x_{1} + x_{6}\\right) \\left(- x_{2} + x_{3}\\right) \\left(- x_{2} + x_{4}\\right) \\left(- x_{2} + x_{5}\\right) \\left(- x_{2} + x_{6}\\right) \\left(- x_{3} + x_{4}\\right) \\left(- x_{3} + x_{5}\\right) \\left(- x_{3} + x_{6}\\right) \\left(- x_{4} + x_{5}\\right) \\left(- x_{4} + x_{6}\\right) \\left(- x_{5} + x_{6}\\right)$"
      ],
      "text/plain": [
       "(-x1 + x2)*(-x1 + x3)*(-x1 + x4)*(-x1 + x5)*(-x1 + x6)*(-x2 + x3)*(-x2 + x4)*(-x2 + x5)*(-x2 + x6)*(-x3 + x4)*(-x3 + x5)*(-x3 + x6)*(-x4 + x5)*(-x4 + x6)*(-x5 + x6)"
      ]
     },
     "execution_count": 145,
     "metadata": {},
     "output_type": "execute_result"
    }
   ],
   "source": [
    "Vand(x)"
   ]
  },
  {
   "cell_type": "code",
   "execution_count": 146,
   "id": "719beffa-efec-4e8a-9487-26720fc5cbe9",
   "metadata": {},
   "outputs": [
    {
     "data": {
      "text/latex": [
       "$\\displaystyle - Q^{15} \\left(x_{1} - x_{2}\\right) \\left(x_{1} - x_{3}\\right) \\left(x_{1} - x_{4}\\right) \\left(x_{1} - x_{5}\\right) \\left(x_{1} - x_{6}\\right) \\left(x_{2} - x_{3}\\right) \\left(x_{2} - x_{4}\\right) \\left(x_{2} - x_{5}\\right) \\left(x_{2} - x_{6}\\right) \\left(x_{3} - x_{4}\\right) \\left(x_{3} - x_{5}\\right) \\left(x_{3} - x_{6}\\right) \\left(x_{4} - x_{5}\\right) \\left(x_{4} - x_{6}\\right) \\left(x_{5} - x_{6}\\right)$"
      ],
      "text/plain": [
       "-Q**15*(x1 - x2)*(x1 - x3)*(x1 - x4)*(x1 - x5)*(x1 - x6)*(x2 - x3)*(x2 - x4)*(x2 - x5)*(x2 - x6)*(x3 - x4)*(x3 - x5)*(x3 - x6)*(x4 - x5)*(x4 - x6)*(x5 - x6)"
      ]
     },
     "execution_count": 146,
     "metadata": {},
     "output_type": "execute_result"
    }
   ],
   "source": [
    "Vand(Q*x).simplify()"
   ]
  },
  {
   "cell_type": "code",
   "execution_count": 136,
   "id": "693da480-b818-4ced-82e9-4c2f466edf60",
   "metadata": {},
   "outputs": [
    {
     "data": {
      "text/plain": [
       "array([Q*x1, Q*x2, Q*x3, Q*x4], dtype=object)"
      ]
     },
     "execution_count": 136,
     "metadata": {},
     "output_type": "execute_result"
    }
   ],
   "source": [
    "Q*x"
   ]
  },
  {
   "cell_type": "code",
   "execution_count": null,
   "id": "e0b8f584-3f56-4892-8f66-3cf7ef41b871",
   "metadata": {},
   "outputs": [],
   "source": []
  }
 ],
 "metadata": {
  "kernelspec": {
   "display_name": "Python 3 (ipykernel)",
   "language": "python",
   "name": "python3"
  },
  "language_info": {
   "codemirror_mode": {
    "name": "ipython",
    "version": 3
   },
   "file_extension": ".py",
   "mimetype": "text/x-python",
   "name": "python",
   "nbconvert_exporter": "python",
   "pygments_lexer": "ipython3",
   "version": "3.12.2"
  }
 },
 "nbformat": 4,
 "nbformat_minor": 5
}
